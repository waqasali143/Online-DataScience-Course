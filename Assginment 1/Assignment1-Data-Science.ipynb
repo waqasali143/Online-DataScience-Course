{
 "cells": [
  {
   "cell_type": "markdown",
   "id": "e23a1f29",
   "metadata": {},
   "source": [
    "# Data Science Course"
   ]
  },
  {
   "cell_type": "code",
   "execution_count": 1,
   "id": "b6cb454d",
   "metadata": {},
   "outputs": [
    {
     "name": "stdout",
     "output_type": "stream",
     "text": [
      "Twinkle, twinkle, little star,\n",
      "\tHow I wonder what you are!\n",
      "\t\tUp above the world so high,\n",
      "\t\tLike a diamond in the sky.\n",
      "Twinkle, twinkle, little star,\n",
      "\tHow I wonder what you are\n"
     ]
    }
   ],
   "source": [
    "# Write a Python program to print the following string in a specific format (see the output).\n",
    "\n",
    "print(\"Twinkle, twinkle, little star,\\n\\tHow I wonder what you are!\\n\\t\\tUp above the world so high,\\n\\t\\tLike a diamond in the sky.\\nTwinkle, twinkle, little star,\\n\\tHow I wonder what you are\")\n"
   ]
  },
  {
   "cell_type": "code",
   "execution_count": 3,
   "id": "a8322131",
   "metadata": {},
   "outputs": [
    {
     "name": "stdout",
     "output_type": "stream",
     "text": [
      "Are you check Python version enter Y/N\n",
      "y\n",
      "Python version\n",
      "3.8.8 (default, Apr 13 2021, 15:08:03) [MSC v.1916 64 bit (AMD64)]\n"
     ]
    }
   ],
   "source": [
    "# Write a Python program to get the Python version you are using.\n",
    "\n",
    "import sys;\n",
    "checkVer = input(\"Are you check Python version enter Y/N\\n\");\n",
    "if checkVer == \"y\":\n",
    "    print(\"Python version\");\n",
    "    print (sys.version);\n",
    "else:\n",
    "    print(\"thanks\")"
   ]
  },
  {
   "cell_type": "code",
   "execution_count": 5,
   "id": "06303679",
   "metadata": {},
   "outputs": [
    {
     "name": "stdout",
     "output_type": "stream",
     "text": [
      "Are you check current Date and Time version enter Y/N\n",
      "y\n",
      "Current Date and Time : \n",
      "30-12-21 23:14:14\n"
     ]
    }
   ],
   "source": [
    "# Write a Python program to display the current date and time.\n",
    "\n",
    "import datetime;\n",
    "dt = input(\"Are you check current Date and Time version enter Y/N\\n\");\n",
    "if dt == \"y\":\n",
    "    now = datetime.datetime.now();\n",
    "print (\"Current Date and Time : \");\n",
    "print (now.strftime(\"%d-%m-%y %H:%M:%S\"));\n",
    "else:\n",
    "    print(\"Thanks for check date and Time\")"
   ]
  },
  {
   "cell_type": "code",
   "execution_count": 6,
   "id": "5641c760",
   "metadata": {},
   "outputs": [
    {
     "name": "stdout",
     "output_type": "stream",
     "text": [
      "Enter the Radius of Circle3\n",
      "Area of Cricle =  28.274333882308138\n"
     ]
    }
   ],
   "source": [
    "# Write a Python program which accepts the radius of a circle from the user and compute the area.\n",
    "\n",
    "from math import pi\n",
    "r = int(input(\"Enter the Radius of Circle\"));\n",
    "print(\"Area of Cricle = \",pi*r**2);\n"
   ]
  },
  {
   "cell_type": "code",
   "execution_count": 7,
   "id": "ddc12008",
   "metadata": {},
   "outputs": [
    {
     "name": "stdout",
     "output_type": "stream",
     "text": [
      "Enter Your First Name: waqas\n",
      "Enter Your Last Name: ali\n",
      "ali waqas\n"
     ]
    }
   ],
   "source": [
    "# Write a Python program which accepts the user's first and last name and print them in reverse order with a space between them.\n",
    "\n",
    "firstName = input(\"Enter Your First Name: \");\n",
    "lastName = input(\"Enter Your Last Name: \");\n",
    "print(lastName + \" \" + firstName);"
   ]
  },
  {
   "cell_type": "code",
   "execution_count": 8,
   "id": "ffbc69a8",
   "metadata": {},
   "outputs": [
    {
     "name": "stdout",
     "output_type": "stream",
     "text": [
      "Enter Your 1st Number33\n",
      "Enter Your 2nd Number32\n",
      "Sum of Two Number =  65\n"
     ]
    }
   ],
   "source": [
    "# Write a python program which takes two inputs from user and print them addition.\n",
    "\n",
    "a = int(input(\"Enter Your 1st Number\"));\n",
    "b = int(input(\"Enter Your 2nd Number\"));\n",
    "sum = a + b;\n",
    "print(\"Sum of Two Number = \", sum);"
   ]
  },
  {
   "cell_type": "code",
   "execution_count": null,
   "id": "d52acbb7",
   "metadata": {},
   "outputs": [],
   "source": []
  }
 ],
 "metadata": {
  "kernelspec": {
   "display_name": "Python 3",
   "language": "python",
   "name": "python3"
  },
  "language_info": {
   "codemirror_mode": {
    "name": "ipython",
    "version": 3
   },
   "file_extension": ".py",
   "mimetype": "text/x-python",
   "name": "python",
   "nbconvert_exporter": "python",
   "pygments_lexer": "ipython3",
   "version": "3.8.8"
  }
 },
 "nbformat": 4,
 "nbformat_minor": 5
}
